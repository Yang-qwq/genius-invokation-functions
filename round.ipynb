{
 "cells": [
  {
   "attachments": {},
   "cell_type": "markdown",
   "metadata": {},
   "source": [
    "# genius-invokation-functions\n",
    "\n",
    "【实验室】七圣召唤相关函数 - 回合与动作篇\n"
   ]
  },
  {
   "attachments": {},
   "cell_type": "markdown",
   "metadata": {},
   "source": [
    "一个简单到不需要多赘述的随机先后手的代码"
   ]
  },
  {
   "cell_type": "code",
   "execution_count": 7,
   "metadata": {},
   "outputs": [
    {
     "name": "stdout",
     "output_type": "stream",
     "text": [
      "PLAYER\n"
     ]
    }
   ],
   "source": [
    "import random\n",
    "\n",
    "class Player(object):\n",
    "    def __init__(self, id: int, name: str) -> None:\n",
    "        self.id = id\n",
    "        self.name = name\n",
    "\n",
    "players = [Player(0, 'ROBOT'), Player(1, 'PLAYER')]\n",
    "\n",
    "print(random.choice(players).name)"
   ]
  },
  {
   "cell_type": "markdown",
   "metadata": {},
   "source": [
    "以及一个十分简单的回合代码"
   ]
  },
  {
   "cell_type": "code",
   "execution_count": null,
   "metadata": {},
   "outputs": [],
   "source": [
    "class RoundEndError(Exception):\n",
    "    pass\n",
    "\n",
    "class Round(object):\n",
    "    def __init__(self) -> None:\n",
    "        self.current = 1\n",
    "        self.max_round = 15\n",
    "\n",
    "    def check(self):\n",
    "        if self.current > self.max_round:  # 当15局后仍未结束就自爆\n",
    "            raise RoundEndError('回合已强制结束')  # 插入你想要的函数\n",
    "\n",
    "    def next(self):\n",
    "        self.current += 1\n",
    "\n",
    "    def setup1st(self, player: Player):\n",
    "        self.first = random.choice(players)\n"
   ]
  }
 ],
 "metadata": {
  "kernelspec": {
   "display_name": "Python 3",
   "language": "python",
   "name": "python3"
  },
  "language_info": {
   "codemirror_mode": {
    "name": "ipython",
    "version": 3
   },
   "file_extension": ".py",
   "mimetype": "text/x-python",
   "name": "python",
   "nbconvert_exporter": "python",
   "pygments_lexer": "ipython3",
   "version": "3.9.13"
  },
  "orig_nbformat": 4,
  "vscode": {
   "interpreter": {
    "hash": "ae021afcbd9d389278a17b623fffd59f018f0b51c706cbee63b7e8f1ecbdf558"
   }
  }
 },
 "nbformat": 4,
 "nbformat_minor": 2
}
