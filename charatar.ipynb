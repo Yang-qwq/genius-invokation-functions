{
 "cells": [
  {
   "cell_type": "markdown",
   "metadata": {},
   "source": [
    "# genius-invokation-functions\n",
    "\n",
    "【实验室】七圣召唤相关函数 - 角色篇\n"
   ]
  },
  {
   "cell_type": "code",
   "execution_count": 16,
   "metadata": {},
   "outputs": [],
   "source": [
    "# !!! 未完成\n",
    "# 一个简单的角色类，需要包含所有必要的信息\n",
    "# 有些函数做起来还有bug（比如死人能回血），所以仅供参考就完了\n",
    "\n",
    "\n",
    "# 定义武器与圣遗物类（以下假设对应关系都是正确的，实际做项目时请自行分析正确性）\n",
    "class WeaponClass:\n",
    "    pass\n",
    "\n",
    "class RelicClass:\n",
    "    pass\n",
    "\n",
    "types = {\n",
    "    'DEMO': {\n",
    "        'name': 'demo',\n",
    "\n",
    "        # 出场生命值\n",
    "        'health': 114514,\n",
    "\n",
    "        # 最大生命值\n",
    "        'max_health': 1919810,\n",
    "\n",
    "        # 最大能量值\n",
    "        'max_power': 4,\n",
    "\n",
    "        # 进场时被动技能会按顺序发动，该文档内不包含其他模块的函数\n",
    "        'master_skill': [],\n",
    "        'slave_skill': [],\n",
    "\n",
    "        # 状态（例如晕眩，角色技能造成的被动）\n",
    "        'status': [],\n",
    "\n",
    "        # 接受的武器类型\n",
    "        'weapon_type': True  # 可使用所有类型武器\n",
    "    },\n",
    "    # 其他样式类以迪卢克为例\n",
    "    '迪卢克': {\n",
    "        'name':\n",
    "        '迪卢克',\n",
    "        'health':\n",
    "        10,\n",
    "        'max_health':\n",
    "        10,\n",
    "        'max_power':\n",
    "        3,\n",
    "        'master_skill': [\n",
    "            {\n",
    "                'type': 'ATTACK',\n",
    "                'name': '淬炼之剑',\n",
    "                'damage': 2,\n",
    "                'damage_type': 'PHYSICS',\n",
    "                'cost': {\n",
    "                    '火': 1,\n",
    "                    'any': 2\n",
    "                }\n",
    "            },\n",
    "            {\n",
    "                'type': 'ATTACK',\n",
    "                'name': '逆焰之刃',\n",
    "                'damage': 3,\n",
    "                'damage_type': 'ELEMENT',\n",
    "                'cost': {\n",
    "                    '火': 3\n",
    "                }\n",
    "            },\n",
    "            {\n",
    "                'type': 'ATTACK',\n",
    "                'name': '黎明',\n",
    "                'damage': 8,\n",
    "                'damage_type': 'ELEMENT',\n",
    "                'cost': {\n",
    "                    '火': 3,\n",
    "                    'POWER': 3\n",
    "                }\n",
    "            }\n",
    "        ],\n",
    "        'slave_skill': [],\n",
    "        'status': [],\n",
    "        'weapon_type':\n",
    "        WeaponClass\n",
    "    },\n",
    "}\n",
    "\n",
    "\n",
    "class HealthError(Exception):\n",
    "    pass\n",
    "\n",
    "\n",
    "class WeaponError(Exception):\n",
    "    pass\n",
    "\n",
    "\n",
    "class Charatar(object):\n",
    "\n",
    "    def __init__(self, type: str = 'CUSTOM') -> None:\n",
    "        infomation = types[type]\n",
    "\n",
    "        self.name = infomation['name']\n",
    "\n",
    "        # 附加血量\n",
    "        self.health = infomation['health']\n",
    "        self.max_health = infomation['max_health']\n",
    "\n",
    "        # 能量值\n",
    "        self.power = 0\n",
    "        self.max_power = infomation['max_power']\n",
    "        # 附加技能与状态\n",
    "        self.master_skill = infomation['master_skill']\n",
    "        self.slave_skill = infomation['slave_skill']\n",
    "        self.status = infomation['status']\n",
    "\n",
    "        # 接受的武器类型\n",
    "        self.weapon_type = infomation['weapon_type']\n",
    "\n",
    "        # 当前圣遗物与武器\n",
    "        self.relic = None\n",
    "        self.weapon = None\n",
    "\n",
    "    def _check_health(self) -> None:\n",
    "        if self.health == 0:\n",
    "            raise HealthError('角色死亡')\n",
    "\n",
    "    def equip_weapon(self, weapon: WeaponClass) -> None:\n",
    "        self._check_health()\n",
    "\n",
    "        # 角色无法装备不适合的武器\n",
    "        if self.weapon_type or (weapon == self.weapon_type):  # 万能武器\n",
    "            self.weapon = weapon\n",
    "        else:\n",
    "            raise WeaponError('角色无法装备不适合的武器')\n",
    "\n",
    "    def equip_relic(self, relic: RelicClass):\n",
    "        self._check_health()\n",
    "        self.relic = relic\n",
    "\n",
    "    def damage_control(self, health: int) -> int:\n",
    "        self._check_health()\n",
    "        self.health += health\n",
    "\n",
    "        # 当角色血量归零时，判定角色死亡\n",
    "        if self.health < 0:\n",
    "            self.health = 0\n",
    "        elif self.health > self.max_health:\n",
    "            self.health = self.max_health\n",
    "\n",
    "        return self.health\n",
    "\n",
    "    def power_control(self, power: int):\n",
    "        self._check_health()\n",
    "        # 能量类似血量，不能低于0，不能溢出\n",
    "        self.power += power\n",
    "\n",
    "        if self.power < 0:\n",
    "            self.power = 0\n",
    "        elif self.power > self.max_power:\n",
    "            self.power = self.max_power\n",
    "\n",
    "        return self.power\n",
    "\n",
    "    def attack(self, index: int):\n",
    "        self._check_health()\n",
    "        # 此处可执行对方卡组受到伤害时执行的代码\n",
    "        # self.master_skill[index]['damage']\n",
    "        # self.master_skill[index]['damage_type']\n",
    "        # ...\n",
    "        self.power_control(1)\n"
   ]
  },
  {
   "attachments": {},
   "cell_type": "markdown",
   "metadata": {},
   "source": [
    "本段代码模拟角色死亡时会发生的事情"
   ]
  },
  {
   "cell_type": "code",
   "execution_count": 18,
   "metadata": {},
   "outputs": [
    {
     "name": "stdout",
     "output_type": "stream",
     "text": [
      "0\n"
     ]
    }
   ],
   "source": [
    "# 创建一个角色\n",
    "charatar = Charatar('迪卢克')\n",
    "\n",
    "# 进行受伤模拟\n",
    "charatar.damage_control(-12)\n",
    "\n",
    "# 获取角色血量\n",
    "print(charatar.health)"
   ]
  },
  {
   "attachments": {},
   "cell_type": "markdown",
   "metadata": {},
   "source": [
    "此时，你无法进行任何操作\n",
    "\n",
    "包括装备圣遗物与武器，控制生命与充能等"
   ]
  },
  {
   "cell_type": "code",
   "execution_count": 20,
   "metadata": {},
   "outputs": [
    {
     "ename": "HealthError",
     "evalue": "角色死亡",
     "output_type": "error",
     "traceback": [
      "\u001b[1;31m---------------------------------------------------------------------------\u001b[0m",
      "\u001b[1;31mHealthError\u001b[0m                               Traceback (most recent call last)",
      "Cell \u001b[1;32mIn[20], line 2\u001b[0m\n\u001b[0;32m      1\u001b[0m \u001b[39m# 装备圣遗物\u001b[39;00m\n\u001b[1;32m----> 2\u001b[0m charatar\u001b[39m.\u001b[39;49mequip_relic(RelicClass)\n\u001b[0;32m      4\u001b[0m \u001b[39m# 装备武器\u001b[39;00m\n\u001b[0;32m      5\u001b[0m charatar\u001b[39m.\u001b[39mequip_weapon(WeaponClass)\n",
      "Cell \u001b[1;32mIn[16], line 133\u001b[0m, in \u001b[0;36mCharatar.equip_relic\u001b[1;34m(self, relic)\u001b[0m\n\u001b[0;32m    132\u001b[0m \u001b[39mdef\u001b[39;00m \u001b[39mequip_relic\u001b[39m(\u001b[39mself\u001b[39m, relic: RelicClass):\n\u001b[1;32m--> 133\u001b[0m     \u001b[39mself\u001b[39;49m\u001b[39m.\u001b[39;49m_check_health()\n\u001b[0;32m    134\u001b[0m     \u001b[39mself\u001b[39m\u001b[39m.\u001b[39mrelic \u001b[39m=\u001b[39m relic\n",
      "Cell \u001b[1;32mIn[16], line 121\u001b[0m, in \u001b[0;36mCharatar._check_health\u001b[1;34m(self)\u001b[0m\n\u001b[0;32m    119\u001b[0m \u001b[39mdef\u001b[39;00m \u001b[39m_check_health\u001b[39m(\u001b[39mself\u001b[39m) \u001b[39m-\u001b[39m\u001b[39m>\u001b[39m \u001b[39mNone\u001b[39;00m:\n\u001b[0;32m    120\u001b[0m     \u001b[39mif\u001b[39;00m \u001b[39mself\u001b[39m\u001b[39m.\u001b[39mhealth \u001b[39m==\u001b[39m \u001b[39m0\u001b[39m:\n\u001b[1;32m--> 121\u001b[0m         \u001b[39mraise\u001b[39;00m HealthError(\u001b[39m'\u001b[39m\u001b[39m角色死亡\u001b[39m\u001b[39m'\u001b[39m)\n",
      "\u001b[1;31mHealthError\u001b[0m: 角色死亡"
     ]
    }
   ],
   "source": [
    "# 装备圣遗物\n",
    "charatar.equip_relic(RelicClass)\n",
    "\n",
    "# 装备武器\n",
    "charatar.equip_weapon(WeaponClass)\n",
    "\n",
    "# 攻击\n",
    "charatar.attack(0)"
   ]
  },
  {
   "attachments": {},
   "cell_type": "markdown",
   "metadata": {},
   "source": [
    "当角色攻击时，恢复1点充能\n",
    "\n",
    "```python\n",
    "def attack(self, index: int):\n",
    "        self._check_health()\n",
    "        # 此处可执行对方卡组受到伤害时执行的代码\n",
    "        # self.master_skill[index]['damage']\n",
    "        # self.master_skill[index]['damage_type']\n",
    "        # ...\n",
    "        self.power_control(1)\n",
    "```"
   ]
  },
  {
   "cell_type": "code",
   "execution_count": 25,
   "metadata": {},
   "outputs": [
    {
     "name": "stdout",
     "output_type": "stream",
     "text": [
      "0\n",
      "1\n",
      "2\n"
     ]
    }
   ],
   "source": [
    "charatar = Charatar('迪卢克')\n",
    "\n",
    "# 获取当前能量\n",
    "print(charatar.power)\n",
    "\n",
    "# 普通攻击\n",
    "charatar.attack(0)\n",
    "\n",
    "# 再次当前能量\n",
    "print(charatar.power)\n",
    "\n",
    "# e\n",
    "charatar.attack(1)\n",
    "\n",
    "# again\n",
    "print(charatar.power)"
   ]
  },
  {
   "attachments": {},
   "cell_type": "markdown",
   "metadata": {},
   "source": [
    "当然，能量类似血量，不能低于0，不能溢出"
   ]
  },
  {
   "cell_type": "code",
   "execution_count": 26,
   "metadata": {},
   "outputs": [
    {
     "name": "stdout",
     "output_type": "stream",
     "text": [
      "3\n"
     ]
    }
   ],
   "source": [
    "charatar.power_control(114514)\n",
    "\n",
    "print(charatar.power)"
   ]
  },
  {
   "attachments": {},
   "cell_type": "markdown",
   "metadata": {},
   "source": [
    "你也可以通过这样的方法操作武器与圣遗物\n",
    "\n",
    "*注：这只是个例子*"
   ]
  },
  {
   "cell_type": "code",
   "execution_count": 28,
   "metadata": {},
   "outputs": [
    {
     "name": "stdout",
     "output_type": "stream",
     "text": [
      "<class '__main__.RelicClass'>\n",
      "<class '__main__.WeaponClass'>\n"
     ]
    }
   ],
   "source": [
    "charatar = Charatar('迪卢克')\n",
    "\n",
    "# 装备圣遗物以及武器\n",
    "charatar.equip_weapon(WeaponClass)\n",
    "charatar.equip_relic(RelicClass)\n",
    "\n",
    "# 获取当前圣遗物以及武器\n",
    "print(charatar.relic)\n",
    "print(charatar.weapon)"
   ]
  }
 ],
 "metadata": {
  "kernelspec": {
   "display_name": "Python 3",
   "language": "python",
   "name": "python3"
  },
  "language_info": {
   "codemirror_mode": {
    "name": "ipython",
    "version": 3
   },
   "file_extension": ".py",
   "mimetype": "text/x-python",
   "name": "python",
   "nbconvert_exporter": "python",
   "pygments_lexer": "ipython3",
   "version": "3.9.13"
  },
  "orig_nbformat": 4,
  "vscode": {
   "interpreter": {
    "hash": "ae021afcbd9d389278a17b623fffd59f018f0b51c706cbee63b7e8f1ecbdf558"
   }
  }
 },
 "nbformat": 4,
 "nbformat_minor": 2
}
